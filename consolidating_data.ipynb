{
 "cells": [
  {
   "cell_type": "code",
   "execution_count": 8,
   "metadata": {},
   "outputs": [],
   "source": [
    "import pandas as pd\n",
    "import numpy as np\n",
    "import pytz"
   ]
  },
  {
   "cell_type": "code",
   "execution_count": 2,
   "metadata": {},
   "outputs": [],
   "source": [
    "# Reading data\n",
    "rooms = ['Fuoco','Canteen','Modulare','Progetto','Affrescata']\n",
    "\n",
    "df_list = []\n",
    "\n",
    "for i in rooms:\n",
    "    df_temp = pd.read_csv(f'data/{i}.csv')\n",
    "    df_temp['room'] = i\n",
    "    df_list.append(df_temp)\n",
    "\n",
    "df = pd.concat(df_list)"
   ]
  },
  {
   "cell_type": "code",
   "execution_count": 3,
   "metadata": {},
   "outputs": [
    {
     "data": {
      "text/plain": [
       "room\n",
       "Affrescata    8743\n",
       "Canteen        351\n",
       "Fuoco         8742\n",
       "Modulare      8737\n",
       "Progetto        12\n",
       "dtype: int64"
      ]
     },
     "execution_count": 3,
     "metadata": {},
     "output_type": "execute_result"
    }
   ],
   "source": [
    "df.groupby('room').size()"
   ]
  },
  {
   "cell_type": "code",
   "execution_count": 4,
   "metadata": {},
   "outputs": [],
   "source": [
    "columns = ['date_hour_bogota','pm10','score','temp_f',\n",
    "           'humid','co2','voc','pm25','noise','light','room']\n",
    "df.columns = columns\n",
    "\n",
    "df['date_hour_bogota'] = pd.to_datetime(df['date_hour_bogota']).dt.tz_localize('America/Bogota')\n",
    "df['date_hour'] = df['date_hour_bogota'].dt.tz_convert('Europe/Rome')\n",
    "df = df.drop(columns=['date_hour_bogota'])"
   ]
  },
  {
   "cell_type": "code",
   "execution_count": 5,
   "metadata": {},
   "outputs": [
    {
     "data": {
      "text/plain": [
       "(26585, 11)"
      ]
     },
     "execution_count": 5,
     "metadata": {},
     "output_type": "execute_result"
    }
   ],
   "source": [
    "df.shape"
   ]
  },
  {
   "cell_type": "code",
   "execution_count": 6,
   "metadata": {},
   "outputs": [
    {
     "data": {
      "text/html": [
       "<div>\n",
       "<style scoped>\n",
       "    .dataframe tbody tr th:only-of-type {\n",
       "        vertical-align: middle;\n",
       "    }\n",
       "\n",
       "    .dataframe tbody tr th {\n",
       "        vertical-align: top;\n",
       "    }\n",
       "\n",
       "    .dataframe thead th {\n",
       "        text-align: right;\n",
       "    }\n",
       "</style>\n",
       "<table border=\"1\" class=\"dataframe\">\n",
       "  <thead>\n",
       "    <tr style=\"text-align: right;\">\n",
       "      <th></th>\n",
       "      <th>pm10</th>\n",
       "      <th>score</th>\n",
       "      <th>temp_f</th>\n",
       "      <th>humid</th>\n",
       "      <th>co2</th>\n",
       "      <th>voc</th>\n",
       "      <th>pm25</th>\n",
       "      <th>noise</th>\n",
       "      <th>light</th>\n",
       "      <th>room</th>\n",
       "      <th>date_hour</th>\n",
       "    </tr>\n",
       "  </thead>\n",
       "  <tbody>\n",
       "    <tr>\n",
       "      <th>0</th>\n",
       "      <td>3.2</td>\n",
       "      <td>98.0</td>\n",
       "      <td>72.4</td>\n",
       "      <td>51.6</td>\n",
       "      <td>451.1</td>\n",
       "      <td>148.3</td>\n",
       "      <td>2.2</td>\n",
       "      <td>41.3</td>\n",
       "      <td>0.0</td>\n",
       "      <td>Fuoco</td>\n",
       "      <td>2024-10-13 07:00:00+02:00</td>\n",
       "    </tr>\n",
       "    <tr>\n",
       "      <th>1</th>\n",
       "      <td>3.1</td>\n",
       "      <td>98.0</td>\n",
       "      <td>72.4</td>\n",
       "      <td>51.6</td>\n",
       "      <td>453.3</td>\n",
       "      <td>147.4</td>\n",
       "      <td>2.1</td>\n",
       "      <td>41.3</td>\n",
       "      <td>0.0</td>\n",
       "      <td>Fuoco</td>\n",
       "      <td>2024-10-13 07:05:00+02:00</td>\n",
       "    </tr>\n",
       "    <tr>\n",
       "      <th>2</th>\n",
       "      <td>3.2</td>\n",
       "      <td>98.1</td>\n",
       "      <td>72.4</td>\n",
       "      <td>51.5</td>\n",
       "      <td>455.7</td>\n",
       "      <td>146.3</td>\n",
       "      <td>2.2</td>\n",
       "      <td>41.3</td>\n",
       "      <td>0.0</td>\n",
       "      <td>Fuoco</td>\n",
       "      <td>2024-10-13 07:10:00+02:00</td>\n",
       "    </tr>\n",
       "    <tr>\n",
       "      <th>3</th>\n",
       "      <td>3.2</td>\n",
       "      <td>98.3</td>\n",
       "      <td>72.4</td>\n",
       "      <td>51.4</td>\n",
       "      <td>454.0</td>\n",
       "      <td>147.9</td>\n",
       "      <td>2.2</td>\n",
       "      <td>41.3</td>\n",
       "      <td>0.0</td>\n",
       "      <td>Fuoco</td>\n",
       "      <td>2024-10-13 07:15:00+02:00</td>\n",
       "    </tr>\n",
       "    <tr>\n",
       "      <th>4</th>\n",
       "      <td>3.5</td>\n",
       "      <td>98.7</td>\n",
       "      <td>72.4</td>\n",
       "      <td>51.4</td>\n",
       "      <td>452.6</td>\n",
       "      <td>145.7</td>\n",
       "      <td>2.5</td>\n",
       "      <td>41.3</td>\n",
       "      <td>0.0</td>\n",
       "      <td>Fuoco</td>\n",
       "      <td>2024-10-13 07:20:00+02:00</td>\n",
       "    </tr>\n",
       "  </tbody>\n",
       "</table>\n",
       "</div>"
      ],
      "text/plain": [
       "   pm10  score  temp_f  humid    co2    voc  pm25  noise  light   room  \\\n",
       "0   3.2   98.0    72.4   51.6  451.1  148.3   2.2   41.3    0.0  Fuoco   \n",
       "1   3.1   98.0    72.4   51.6  453.3  147.4   2.1   41.3    0.0  Fuoco   \n",
       "2   3.2   98.1    72.4   51.5  455.7  146.3   2.2   41.3    0.0  Fuoco   \n",
       "3   3.2   98.3    72.4   51.4  454.0  147.9   2.2   41.3    0.0  Fuoco   \n",
       "4   3.5   98.7    72.4   51.4  452.6  145.7   2.5   41.3    0.0  Fuoco   \n",
       "\n",
       "                  date_hour  \n",
       "0 2024-10-13 07:00:00+02:00  \n",
       "1 2024-10-13 07:05:00+02:00  \n",
       "2 2024-10-13 07:10:00+02:00  \n",
       "3 2024-10-13 07:15:00+02:00  \n",
       "4 2024-10-13 07:20:00+02:00  "
      ]
     },
     "execution_count": 6,
     "metadata": {},
     "output_type": "execute_result"
    }
   ],
   "source": [
    "df.head()"
   ]
  },
  {
   "cell_type": "code",
   "execution_count": 7,
   "metadata": {},
   "outputs": [],
   "source": [
    "df.to_csv('data/air_quality_data.csv', index = False)"
   ]
  }
 ],
 "metadata": {
  "kernelspec": {
   "display_name": "Python 3",
   "language": "python",
   "name": "python3"
  },
  "language_info": {
   "codemirror_mode": {
    "name": "ipython",
    "version": 3
   },
   "file_extension": ".py",
   "mimetype": "text/x-python",
   "name": "python",
   "nbconvert_exporter": "python",
   "pygments_lexer": "ipython3",
   "version": "3.9.20"
  }
 },
 "nbformat": 4,
 "nbformat_minor": 2
}
